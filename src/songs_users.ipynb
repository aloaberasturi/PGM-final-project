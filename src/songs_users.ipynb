{
 "cells": [
  {
   "cell_type": "markdown",
   "metadata": {},
   "source": [
    "## Import"
   ]
  },
  {
   "cell_type": "code",
   "execution_count": 1,
   "metadata": {},
   "outputs": [],
   "source": [
    "import pandas as pd\n",
    "import numpy as np\n",
    "import random\n",
    "import networkx as nx\n",
    "import matplotlib.pyplot as plt\n",
    "from itertools import chain\n",
    "import pandas as pd\n",
    "from pandas import ExcelWriter\n",
    "from pandas import ExcelFile"
   ]
  },
  {
   "cell_type": "markdown",
   "metadata": {},
   "source": [
    "## Functions"
   ]
  },
  {
   "cell_type": "code",
   "execution_count": 2,
   "metadata": {},
   "outputs": [],
   "source": [
    "def hamming(a,b):\n",
    "    h = len(a)\n",
    "    for i in range(len(a)):\n",
    "        if a[i] == b[i]:\n",
    "            h += -1\n",
    "            \n",
    "    h2 = len(a) - h\n",
    "    return(h)\n",
    "\n",
    "def convert_range(mylist,min_x,max_x):\n",
    "    norm_x = [(x-min(mylist))/(max(mylist)-min(mylist)) for x in mylist]\n",
    "    range_list = [x*(max_x-1)+min_x for x in norm_x]\n",
    "    return range_list\n",
    "\n",
    "def create_feature_ids(columns):\n",
    "    feature_ids = []\n",
    "    for i in range(len(columns)):\n",
    "        f_id = 'f_'+str(i)\n",
    "        feature_ids.append(f_id)\n",
    "        \n",
    "    return feature_ids"
   ]
  },
  {
   "cell_type": "code",
   "execution_count": 7,
   "metadata": {},
   "outputs": [],
   "source": [
    "def create_songs_dict(df):\n",
    "    song_id_list = []\n",
    "    songs_dict = {}\n",
    "    for index, row in df.iterrows():\n",
    "        songs_dict[index] = row[1:].to_list()\n",
    "        \n",
    "    \n",
    "    return songs_dict"
   ]
  },
  {
   "cell_type": "code",
   "execution_count": 8,
   "metadata": {},
   "outputs": [],
   "source": [
    "def create_user(user_id,init_id, songs_dict,n_songs_rated):\n",
    "    \n",
    "    init_song = songs_dict[init_id]\n",
    "    \n",
    "    ids = list(songs_dict.keys())\n",
    "    song_features = list(songs_dict.values())\n",
    "    \n",
    "    hamming_similarity_dict = {}\n",
    "    hamming_distances = [hamming(init_song,song) for song in song_features]\n",
    "    \n",
    "    \n",
    "\n",
    "    \n",
    "    #probabilities \n",
    "    hamming_similarity = [max(hamming_distances)-h for h in hamming_distances]\n",
    "    hamming_similarity = convert_range(hamming_similarity,1,10)\n",
    "    hamming_similarity = np.array(hamming_similarity)\n",
    "    \n",
    "    for i in range(len(ids)):\n",
    "        hamming_similarity_dict[ids[i]] = hamming_similarity[i]\n",
    "\n",
    "    p = hamming_similarity/hamming_similarity.sum(axis=0,keepdims=1)\n",
    "    \n",
    "    hamming_std =  np.std(hamming_similarity,  keepdims=True)\n",
    "\n",
    "    user_songs = [init_id]  \n",
    "    user_songs += list(np.random.choice(np.array(ids),n_songs_rated, p=p, replace = False))\n",
    "    user_songs = list(set(user_songs))\n",
    "    \n",
    "    user_songs_rating = []\n",
    "    for song_id in user_songs:\n",
    "        rating = np.random.normal(loc=hamming_similarity_dict[song_id], scale=hamming_std)\n",
    "        rating = round(int(rating),0)\n",
    "        if rating > 10:\n",
    "            rating = 10\n",
    "        elif rating <1:\n",
    "            rating = 1\n",
    "            \n",
    "        user_songs_rating.append([song_id,user_id,rating])\n",
    "    return user_songs_rating\n",
    "\n",
    "\n"
   ]
  },
  {
   "cell_type": "code",
   "execution_count": 9,
   "metadata": {},
   "outputs": [],
   "source": [
    "def create_files(song_database,user_names,init_song_list,n_songs_rated_per_user):\n",
    "    \n",
    "    df = pd.read_excel(song_database)\n",
    "    for index, row in df.iterrows():\n",
    "        df.loc[index, 'Song'] = row['Artist']+ ' ' + '-' + ' '+ row['Song']\n",
    "    df = df.drop('Artist',axis=1)\n",
    "    feature_ids = create_feature_ids(df.columns[2:])\n",
    "    columns = ['song_id','name']+feature_ids\n",
    "    df.columns = columns\n",
    "    df.to_csv(\"PGM-final-project-master/data/music_data2.csv\",header=True, index=False)\n",
    "    df = df.set_index('song_id')\n",
    "    \n",
    "    user_data = []\n",
    "    for ind,name in enumerate(user_names):\n",
    "        user_id = 'U00'+str(ind)\n",
    "        user_data.append([user_id,name])\n",
    "        \n",
    "    user_dataframe = pd.DataFrame(user_data, columns = ['user_id','name'])\n",
    "\n",
    "    # CREATE USER_DATA CSV FILE\n",
    "    user_dataframe.to_csv(\"PGM-final-project-master/data/user_data2.csv\",header=True, index=False)\n",
    "    songs_dict = create_songs_dict(df)\n",
    "\n",
    "    all_user_ratings = []\n",
    "    for i in range(len(init_song_list)):\n",
    "        u_id = user_data[i][0]\n",
    "        s_id = init_song_list[i]\n",
    "        user_songs_ratings = create_user(u_id,s_id,songs_dict,n_songs_rated_per_user)\n",
    "        [all_user_ratings.append(tup) for tup in user_songs_ratings]\n",
    "\n",
    "\n",
    "    ratings_dataframe = pd.DataFrame(all_user_ratings, columns = ['song_id','user_id','rating'])\n",
    "    ratings_dataframe.to_csv(\"PGM-final-project-master/data/ratings2.csv\",header=True, index=False)"
   ]
  },
  {
   "cell_type": "markdown",
   "metadata": {},
   "source": [
    "## CREATE THE CSV FILES"
   ]
  },
  {
   "cell_type": "code",
   "execution_count": 10,
   "metadata": {},
   "outputs": [],
   "source": [
    "# address of the original song-features excel file:\n",
    "songs_database = \"PGM-final-project-master/data/song_features.xlsx\"\n",
    "\n",
    "# list of users\n",
    "user_names = ['Federico', 'Alejandra','Mario','Giulia']\n",
    "\n",
    "# choose one initial starting song for each user, to generate that user's song base\n",
    "init_song_list = ['S01','E03','J02','R07']\n",
    "create_files(songs_database,user_names,init_song_list,12)"
   ]
  },
  {
   "cell_type": "code",
   "execution_count": null,
   "metadata": {},
   "outputs": [],
   "source": []
  }
 ],
 "metadata": {
  "kernelspec": {
   "display_name": "Python 3",
   "language": "python",
   "name": "python3"
  },
  "language_info": {
   "codemirror_mode": {
    "name": "ipython",
    "version": 3
   },
   "file_extension": ".py",
   "mimetype": "text/x-python",
   "name": "python",
   "nbconvert_exporter": "python",
   "pygments_lexer": "ipython3",
   "version": "3.7.4"
  }
 },
 "nbformat": 4,
 "nbformat_minor": 2
}
