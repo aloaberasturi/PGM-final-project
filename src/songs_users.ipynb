{
 "cells": [
  {
   "cell_type": "code",
   "execution_count": 22,
   "metadata": {},
   "outputs": [],
   "source": [
    "import pandas as pd\n",
    "from pandas import ExcelWriter\n",
    "from pandas import ExcelFile"
   ]
  },
  {
   "cell_type": "code",
   "execution_count": null,
   "metadata": {},
   "outputs": [],
   "source": []
  },
  {
   "cell_type": "code",
   "execution_count": 23,
   "metadata": {},
   "outputs": [],
   "source": [
    "def create_feature_ids(columns):\n",
    "    feature_ids = []\n",
    "    for i in range(len(columns)):\n",
    "        f_id = 'f_'+str(i)\n",
    "        feature_ids.append(f_id)\n",
    "\n",
    "    return feature_ids"
   ]
  },
  {
   "cell_type": "code",
   "execution_count": 24,
   "metadata": {},
   "outputs": [],
   "source": [
    "## To add new users:\n",
    "# create variable userX = name, song_id vector, ratings vector\n",
    "# add userX to all_users\n",
    "\n",
    "\n",
    "user1 = 'Federico',[0,1,2,3,4,5,6,7,8,9,10],[8,7,2,4,6,7,8,9,9,8,2]\n",
    "user2 = 'Alejandra',[0,1,2,3,4,5,6,7,8,9,10],[1,2,3,4,5,6,7,8,9,10,7]\n",
    "user3 = 'Marco',[12,13,14,15,16,17,18,19,20],[5,4,3,2,1,6,7,8,9,4,5]\n",
    "user4 = 'Jessie',[32,33,34,35,36,37,38,39,40,41,42,1,2,3,4],[2,3,5,5,6,7,4,6,8,6,7,5,3,5,7,5]\n",
    "user5 = 'Walt',[20,21,22,23,24,25,26,27,28,29,30,31,32,33,34,36],[1,2,3,4,5,6,7,8,6,5,4,3,2,5,6,7]\n",
    "user6 = 'Carlo', [0,1,2,7,11,27,28,29,31,43,49,53,56,58,59,60,72,77,78,79,89],[2,4,6,4,5,6,7,8,9,5,3,2,4,5,6,7,8,9,6,4,5]\n",
    "user7 = 'Elohim', [0, 3, 15, 17, 24, 26, 27, 28, 29, 30, 35, 58, 64, 66, 70, 73, 82, 84, 86, 91], [1,2,4,5,6,7,8,5,3,2,4,5,6,7,8,9,4,8,4,2,5]\n",
    "user9 = 'Mia',[5, 8, 26, 27, 29, 30, 32, 36, 41, 43, 44, 46, 55, 58, 64, 68, 78, 85, 89, 90],[1,7,9,8,7,6,5,6,7,8,5,3,2,4,5,6,7,3,2,1,2]\n",
    "\n",
    "all_users = [user1,user2,user3,user4]"
   ]
  },
  {
   "cell_type": "code",
   "execution_count": 25,
   "metadata": {},
   "outputs": [],
   "source": [
    "# Create file: user_data2\n",
    "user_names = [user[0] for user in all_users]\n",
    "user_data = []\n",
    "for ind,name in enumerate(user_names):\n",
    "    user_id = 10000+ind\n",
    "    user_data.append([user_id,name])\n",
    "        \n",
    "user_dataframe = pd.DataFrame(user_data, columns = ['user_id','name'])\n",
    "user_dataframe.to_csv(\"../data/user_data2.csv\",header=True, index=False)"
   ]
  },
  {
   "cell_type": "code",
   "execution_count": 26,
   "metadata": {},
   "outputs": [],
   "source": [
    "# create file: ratings2\n",
    "all_user_ratings = []\n",
    "for i in range(len(all_users)):\n",
    "    user_id = user_data[i][0]\n",
    "    current_user = all_users[i]\n",
    "    current_user_songs = current_user[1]\n",
    "    current_user_ratings = current_user[2]\n",
    "    for i in range(len(current_user_songs)):\n",
    "        tup = (current_user_songs[i],user_id,current_user_ratings[i])\n",
    "        all_user_ratings.append(tup)\n",
    "\n",
    "ratings_dataframe = pd.DataFrame(all_user_ratings, columns = ['song_id','user_id','rating'])\n",
    "ratings_dataframe.to_csv(\"../data/ratings2.csv\",header=True, index=False)"
   ]
  },
  {
   "cell_type": "code",
   "execution_count": 27,
   "metadata": {},
   "outputs": [],
   "source": [
    "# create file: music_data2\n",
    "df = pd.read_excel(\"../data/song_features.xlsx\")\n",
    "for index, row in df.iterrows():\n",
    "    df.loc[index, 'Song'] = row['Artist']+ ' ' + '-' + ' '+ row['Song']\n",
    "df = df.drop('Artist',axis=1)\n",
    "feature_ids = create_feature_ids(df.columns[2:])\n",
    "columns = ['song_id','name']+feature_ids\n",
    "df.columns = columns\n",
    "df.to_csv(\"../data/music_data2.csv\",header=True, index=False)"
   ]
  },
  {
   "cell_type": "code",
   "execution_count": null,
   "metadata": {},
   "outputs": [],
   "source": []
  }
 ],
 "metadata": {
  "kernelspec": {
   "display_name": "Python 3",
   "language": "python",
   "name": "python3"
  },
  "language_info": {
   "codemirror_mode": {
    "name": "ipython",
    "version": 3
   },
   "file_extension": ".py",
   "mimetype": "text/x-python",
   "name": "python",
   "nbconvert_exporter": "python",
   "pygments_lexer": "ipython3",
   "version": "3.7.4"
  }
 },
 "nbformat": 4,
 "nbformat_minor": 2
}
